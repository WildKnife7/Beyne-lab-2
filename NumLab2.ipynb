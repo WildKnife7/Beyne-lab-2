{
 "cells": [
  {
   "cell_type": "markdown",
   "metadata": {},
   "source": [
    "# Numerisk laboration II: Bayesiansk inferens för parameterestimering\n",
    "\n",
    "## Bayesiansk inferens och maskininlärning [TIF385], Chalmers, lp2 4\n",
    "\n",
    "Senast uppdaterad:2-Dec-2024 av Christian Forssén [christian.forssen@chalmers.se]"
   ]
  },
  {
   "cell_type": "markdown",
   "metadata": {},
   "source": [
    "## Instruktioner"
   ]
  },
  {
   "cell_type": "markdown",
   "metadata": {},
   "source": [
    "- Se deadline för examination på kurshemsidan.\n",
    "- Denna numeriska laboration examineras genom individuellt godkänt på obligatoriska uppgifter i Yata, samt genom godkänd redovisning av lösningar och resultat vid en gruppdiskussion som leds av övningsledare.\n",
    "- Laborationen genomförs individuellt men redovisning sker i seminarieform med flera studenter åt gången.\n",
    "- Diskussioner och samarbete mellan studenter är tillåtet, men varje student som deltar i en redovisning måste på egen hand kunna svara på frågor kring lösning och tolkning av samtliga delar av laborationen."
   ]
  },
  {
   "cell_type": "markdown",
   "metadata": {},
   "source": [
    "### Resultat och figurer\n",
    "- Vid gruppredovisningen skall varje student vara beredd att köra sin lösningskod och kunna demonstrera resultat via efterfrågade figurer.\n",
    "- Alla figurer skall vara tydliga att avläsa, med rubriker på axlar och en beskrivning av kurvor och/eller data.\n",
    "- Ni skall kunna tolka era resultat och förklara hur dessa genererades."
   ]
  },
  {
   "cell_type": "markdown",
   "metadata": {},
   "source": [
    "## Uppgift\n",
    "\n",
    "Det övergripande målet är att reproducera några resultat från den vetenskapliga artikeln: [*Bayesian parameter estimation for effective field theories*](https://arxiv.org/abs/1511.03618) av Sarah Wesolowski et al.  \n",
    "\n",
    "Detta är en lång artikel med en ganska detaljerad guide till användandet av Bayesiansk inferens inom fysikalisk modellering, och speciellt när man använder så kallade effektiva fältteorier. Vi kommer enbart att fokusera på en liten del inom Sec. II och ni behöver alltså inte läsa artikeln.\n",
    "\n",
    "I artikeln introduceras en enkel domänbegränsad modell, nämligen Taylorutvecklingen av en trigonometrisk funktion, för att simulera egenskaper hos en effektiv fältteori. Situationen motsvarar att man har en övergripande fysikalisk förståelse för sin modell, men saknar detaljerad kunskap (eller förmåga) att beskriva fysiken vid höga energiskalor. En effektiv teori är en systematisk beskrivning av fysik på givna längd- eller energi-skalor med en modell som enbart innehåller de frihetsgrader som är mest relevanta. Man undviker därmed att explicit inkludera komplicerad fysik på kortare längdskalor (eller högre energi). Istället sammanfattas deras effekt genom systematiskt härledda termer med styrkor som ges av så kallade lågenergikonstanter. Värdena på dessa är dock obekanta.\n",
    "\n",
    "I vårt fall representerar (det obekanta) sambandet\n",
    "$$\n",
    "y(x) = \\left(\\frac12 + \\tan\\left(\\frac{\\pi}{2}x\\right)\\right)^2\n",
    "$$\n",
    "den underliggande teorin som vi alltså inte känner till. Vi vill enbart försöka beskriva sambandet för små värden på $x$ där vi inser att en enkel linjär modell är en god approximation. Även om modellparametrarna inte är kända så förväntar vi oss att samtliga är av \"naturlig storlek\", dvs av storleksordningen 1 (och inte 10, 100, osv). Vi förväntar oss också att de kan vara både positiva och negativa.\n",
    "\n",
    "Vår effektiva modell är alltså linjär\n",
    "$$\n",
    "M(\\boldsymbol{\\theta};x) = \\sum_{i=0}^k \\theta_i x^i,\n",
    "$$\n",
    "där $\\theta_i$ är våra modellparametrar och parameterdimensionen är $N_p = k+1$ där $k$ är graden på polynomet.\n",
    "\n",
    "Målet är att estimera parametrarna $\\theta_i$ för olika modelltrunkeringar $k$ (vilket motsvarar att bestämma $N_p = k+1$ parametrar). Vi skall använda både linjär och Bayesiansk regression och analysera resultaten.\n",
    "\n",
    "Mer specifikt så utförs uppgiften i tre steg (plus förberedelse) som beskrivs närmare nedan:\n",
    "\n",
    "* Steg 0: Förberedelse\n",
    "* **Steg 1: Linjär regression**\n",
    "* **Steg 2: Bayesiansk inferens**\n",
    "* **Steg 3: MCMC sampling och a posteriori förutsägelser**"
   ]
  },
  {
   "cell_type": "markdown",
   "metadata": {},
   "source": [
    "### Lärandemål\n",
    "- Att kunna välja och använda relevanta metoder för att utföra en modell- och dataanalys.\n",
    "- Mer specifikt; \n",
    "  - att tillämpa numeriska metoder för att utföra linjär regression och Bayesiansk inferens.\n",
    "  - att utföra numeriska matrisoperationer för att få resultat (vilket möjliggörs genom att betrakta en linjär modell med analytiska uttryck för de relevanta sannolikhetsfördelningarna).\n",
    "  - att tillämpa den mer kraftfulla numeriska metoden MCMC sampling för att genomföra en dataanalys för ett exempel där det är möjligt att validera de numeriska resultaten.\n",
    "- Tolka resultat i termer av mängden och precisionen på tillgänglig data, samt a priori kunskaper.\n",
    "- Skapa och presentera vetenskapligt komponerade figurer och kunna beskriva dessa."
   ]
  },
  {
   "cell_type": "markdown",
   "metadata": {},
   "source": [
    "## Steg 0: Förberedelse"
   ]
  },
  {
   "cell_type": "markdown",
   "metadata": {},
   "source": [
    "Denna förberedelse rekommenderas för att kunna utföra och förstå uppgifterna nedan samt att kunna tolka resultaten. Förhoppningsvis känner ni igen flera delar från övningar, demonstrationer och föreläsningar. \n",
    "- Läs de relevanta avsnitten i kurskompendiet. Speciellt **linjär regression (kap. 8)** samt **Bayesiansk linjär regression (kap. 18)**, men även repetitionen av relevanta koncept i matematisk statistik (kap. 6) och avsnitt **15.2 om Bayes teorem**. \n",
    "- Studera speciellt uppvärmningsexemplen från linjär regression i kapitel 8 (uppgifterna 8.1 och 8.2) samt Bayesiansk linjär regression i kapitel 18 (uppgifterna 18.2, 18.3, och 18.4). Ni har antagligen kod för linjär regression från räkneövningar och demonstrationer under de första två läsveckorna. Detta exempel går även att lösa med penna och papper.\n",
    "\n",
    "Detta förberedelsesteg examineras inte explicit i laborationen (men förståelsen av innehållet testas i den skriftliga tentamen). "
   ]
  },
  {
   "cell_type": "markdown",
   "metadata": {},
   "source": [
    "## Examinerade uppgifter. \n",
    "\n",
    "Uppgiftsbeskrivningar finns längre ner i detta dokument. Förslag på tillvägagångssätt:\n",
    "\n",
    "### Steg 1 och 2\n",
    "* Gör först **förberedelseuppgift 1 på Yata** (vilken inkluderar **uppgift 18.1**).\n",
    "* Följ de specifika instruktionerna nedan för att ladda ner samma data som användes i artikeln: [D1_c_5.dat](https://arxiv.org/src/1511.03618v3/anc/D1_c_5.dat). \n",
    "  - De tre kolumnerna motsvarar den oberoende parametern $x_j$, motsvarande uppmätta respons $d_j$ samt standardavvikelsen på det experimentella felet $\\sigma_j$ för tio mätningar ($j=1, \\ldots, 10$).\n",
    "  - Vi kommer dock att utföra en analys där vi *antar* att den experimentella osäkerheten för samtliga mätpunkter karakteriseras av en normalfördelning med standardavvikelse $\\sigma_\\epsilon = 0.05$. Vi skall alltså inte använda den tredje kolumnen.\n",
    "* Följ instruktionerna stegvis. Titta på kodexempel i förläsningsanteckningarna för ledtrådar.\n",
    "* Definiera funktioner för den linjära modellen och för den datagenererande funktionen så att det går att rita upp dessa i figurer. Använd ett tätare intervall av punkter i $x$-led för detta, men håll er till intervallet $x \\in [0, 0.4]$.\n",
    "* Starta med en modell med ett lågordningspolynom och öka ordningen när ni är säkra på resultaten.\n",
    "\n",
    "### Steg 3: MCMC sampling\n",
    "* Gör först **förberedelseuppgift 2 på Yata**.\n",
    "* Utveckla och testa er samplingsfunktion i Yata innan ni använder den i uppgiften.\n",
    "* Skapa funktioner för logaritmen av a priori- och trolighetsfördelningarna. Notera att logaritmen av (den onormaliserade) a posteriorifördelningen då är summan av dessa. Ni behöver inte inkludera normaliseringskonstanter som inte beror på de parametrar som ni försöker estimera.\n",
    "* För att spara ner figurer kan funktionen `savefig` i `matplotlib.pyplot` vara användbar.\n",
    "* Glöm inte axelrubriker och symbolförklaring (\"legend\") i figurerna."
   ]
  },
  {
   "cell_type": "markdown",
   "metadata": {},
   "source": [
    "### modulimport"
   ]
  },
  {
   "cell_type": "code",
   "execution_count": 1,
   "metadata": {},
   "outputs": [],
   "source": [
    "import matplotlib.pyplot as plt\n",
    "import numpy as np\n",
    "import scipy.stats as stats\n",
    "import pandas as pd"
   ]
  },
  {
   "cell_type": "markdown",
   "metadata": {},
   "source": [
    "### Nedladdning av data"
   ]
  },
  {
   "cell_type": "markdown",
   "metadata": {},
   "source": [
    "Det bifogade materialet till atikeln arXiv:1511.03618 inkluderar den datafil som vi skall använda. Vi kan använda `pandas` för att läsa denna från en url."
   ]
  },
  {
   "cell_type": "code",
   "execution_count": 2,
   "metadata": {},
   "outputs": [
    {
     "name": "stdout",
     "output_type": "stream",
     "text": [
      "Read data from https://arxiv.org/src/1511.03618v3/anc/D1_c_5.dat into a pandas data frame with shape: (10, 3)\n"
     ]
    },
    {
     "data": {
      "text/html": [
       "<div>\n",
       "<style scoped>\n",
       "    .dataframe tbody tr th:only-of-type {\n",
       "        vertical-align: middle;\n",
       "    }\n",
       "\n",
       "    .dataframe tbody tr th {\n",
       "        vertical-align: top;\n",
       "    }\n",
       "\n",
       "    .dataframe thead th {\n",
       "        text-align: right;\n",
       "    }\n",
       "</style>\n",
       "<table border=\"1\" class=\"dataframe\">\n",
       "  <thead>\n",
       "    <tr style=\"text-align: right;\">\n",
       "      <th></th>\n",
       "      <th>x</th>\n",
       "      <th>d</th>\n",
       "      <th>sigma</th>\n",
       "    </tr>\n",
       "  </thead>\n",
       "  <tbody>\n",
       "    <tr>\n",
       "      <th>0</th>\n",
       "      <td>0.03183</td>\n",
       "      <td>0.31694</td>\n",
       "      <td>0.015850</td>\n",
       "    </tr>\n",
       "    <tr>\n",
       "      <th>1</th>\n",
       "      <td>0.06366</td>\n",
       "      <td>0.33844</td>\n",
       "      <td>0.016920</td>\n",
       "    </tr>\n",
       "    <tr>\n",
       "      <th>2</th>\n",
       "      <td>0.09549</td>\n",
       "      <td>0.42142</td>\n",
       "      <td>0.021070</td>\n",
       "    </tr>\n",
       "    <tr>\n",
       "      <th>3</th>\n",
       "      <td>0.12732</td>\n",
       "      <td>0.57709</td>\n",
       "      <td>0.028850</td>\n",
       "    </tr>\n",
       "    <tr>\n",
       "      <th>4</th>\n",
       "      <td>0.15915</td>\n",
       "      <td>0.56218</td>\n",
       "      <td>0.028110</td>\n",
       "    </tr>\n",
       "    <tr>\n",
       "      <th>5</th>\n",
       "      <td>0.19099</td>\n",
       "      <td>0.68851</td>\n",
       "      <td>0.034430</td>\n",
       "    </tr>\n",
       "    <tr>\n",
       "      <th>6</th>\n",
       "      <td>0.22282</td>\n",
       "      <td>0.73625</td>\n",
       "      <td>0.036810</td>\n",
       "    </tr>\n",
       "    <tr>\n",
       "      <th>7</th>\n",
       "      <td>0.25465</td>\n",
       "      <td>0.87270</td>\n",
       "      <td>0.043640</td>\n",
       "    </tr>\n",
       "    <tr>\n",
       "      <th>8</th>\n",
       "      <td>0.28648</td>\n",
       "      <td>1.00150</td>\n",
       "      <td>0.050075</td>\n",
       "    </tr>\n",
       "    <tr>\n",
       "      <th>9</th>\n",
       "      <td>0.31831</td>\n",
       "      <td>1.06840</td>\n",
       "      <td>0.053420</td>\n",
       "    </tr>\n",
       "  </tbody>\n",
       "</table>\n",
       "</div>"
      ],
      "text/plain": [
       "         x        d     sigma\n",
       "0  0.03183  0.31694  0.015850\n",
       "1  0.06366  0.33844  0.016920\n",
       "2  0.09549  0.42142  0.021070\n",
       "3  0.12732  0.57709  0.028850\n",
       "4  0.15915  0.56218  0.028110\n",
       "5  0.19099  0.68851  0.034430\n",
       "6  0.22282  0.73625  0.036810\n",
       "7  0.25465  0.87270  0.043640\n",
       "8  0.28648  1.00150  0.050075\n",
       "9  0.31831  1.06840  0.053420"
      ]
     },
     "metadata": {},
     "output_type": "display_data"
    }
   ],
   "source": [
    "# Let's read the data using pandas.\n",
    "url = \"https://arxiv.org/src/1511.03618v3/anc/D1_c_5.dat\"\n",
    "names = ['x', 'd', 'sigma']\n",
    "# Note that the data file uses one or more tabs as separators. So the regex '\\t+' is needed\n",
    "# and this calls for engine='python'\n",
    "# Comment lines starting with '#' should be ignored\n",
    "pd_D = pd.read_csv(url, names=names, sep='\\t+', engine='python', comment='#')\n",
    "print(f'Read data from {url} into a pandas data frame with shape: {pd_D.shape}')\n",
    "display(pd_D)"
   ]
  },
  {
   "cell_type": "code",
   "execution_count": 3,
   "metadata": {},
   "outputs": [],
   "source": [
    "# Taylorutveckling av den datagenererande funktionen\n",
    "# g(x) = 0.25 + 1.57x + 2.47x**2 + 1.29x**3\n",
    "theta_true = np.array([0.25, 1.5707963, 2.4674011, 1.2919282, 4.0587121,\n",
    "                       1.275082, 5.67486677])"
   ]
  },
  {
   "cell_type": "markdown",
   "metadata": {},
   "source": [
    "## Steg 1: Linjär regression\n",
    "\n",
    "Studera gärna uppvärmningsexemplet från linjär regression i kapitel 8 (uppgifterna 8.1 och 8.2). Ni har antagligen kod för linjär regression från räkneövningar och demonstrationer under de första två läsveckorna. Detta exempel går även att lösa med penna och papper."
   ]
  },
  {
   "cell_type": "markdown",
   "metadata": {},
   "source": [
    "(a) Examineras i Yata.\n",
    "\n",
    "   Utför linjär regression på denna data för modeller med $k \\in \\{ 0, 1, 2, 3, 4, 5\\}$. "
   ]
  },
  {
   "cell_type": "code",
   "execution_count": null,
   "metadata": {},
   "outputs": [],
   "source": []
  },
  {
   "cell_type": "markdown",
   "metadata": {},
   "source": [
    "(b) Figur 1:\n",
    "\n",
    "   Jämför data, exakt funktion samt de olika linjära modeller som anpassades i deluppgift 1(a).\n",
    "   - Vad händer med modellen som har sex paramterar?"
   ]
  },
  {
   "cell_type": "markdown",
   "metadata": {},
   "source": [
    "## Steg 2: Bayesiansk inferens\n",
    "\n",
    "Studera gärna uppvärmningsexemplet från Bayesiansk linjär regression i kapitel 18 (uppgifterna 18.2, 18.3, och 18.4). \n",
    "\n",
    "Gör **förberedelseuppgift 1 på Yata** (vilken inkluderar **uppgift 18.1**."
   ]
  },
  {
   "cell_type": "markdown",
   "metadata": {},
   "source": [
    "- Antag en (oberoende) normal a priori fördelning i alla parameterriktningar med medelvärdet $\\mu_\\theta=0$ samt standardavvikelse $\\sigma_\\theta=5.0$.\n",
    "- Vidare antar vi oberoende och identiskt normalfördelade experimentella fel med medelvärdet $\\mu_\\epsilon=0$ samt standardavvikelse $\\sigma_\\epsilon = 0.05$."
   ]
  },
  {
   "cell_type": "markdown",
   "metadata": {},
   "source": [
    "(a)  Tabell 1:\n",
    "\n",
    "   Gör bayesiansk inferens enligt ovan antaganden för $k \\in \\{0, 1, 2, 3, 4, 5\\}$. Redovisa medelvärden samt standardavvikelse för de marginaliserade parameterfördelningarna för samtliga sex inferensproblem. \n",
    "   - Jämför med koefficienterna för Taylorutvecklingen av den underliggande funktionen. \n",
    "   - Jämför med resultaten från linjär regression ovan och tolka skillnaden."
   ]
  },
  {
   "cell_type": "code",
   "execution_count": 6,
   "metadata": {},
   "outputs": [],
   "source": [
    "from tabulate import tabulate\n",
    "\n",
    "res_var_sq = 0.05**2\n",
    "res_mean = 0\n",
    "\n",
    "prior_var_sq = 5.0**2\n",
    "prior_mean = 0\n",
    "\n",
    "k = [0,1,2,3,4,5]\n",
    "\n",
    "xdata = np.array([x for x in pd_D[\"x\"]])\n",
    "ydata = np.array([x for x in pd_D[\"d\"]])\n",
    "\n",
    "def design_matrix(xdata, polydeg):\n",
    "    N_d = len(xdata)\n",
    "    N_p = polydeg + 1\n",
    "    X = np.zeroes(N_d, N_p)\n",
    "    for i, x_k in enumerate(xdata):\n",
    "        for j in range(poldeg+1):\n",
    "            X[i,j] = x_k**j\n",
    "    return X\n",
    "\n",
    "def polyfit(xdata, ydata, polydeg):\n",
    "\n",
    "    X = generate_design_matrix(xdata, polydeg)\n",
    "    \n",
    "    XTX = np.matmul(X.T, X)\n",
    "    ydata = np.array(ydata).reshape(-1,1)\n",
    "    XTY = np.matmul(X.T, ydata)\n",
    "    XTXinv = np.linalg.inv(XTX)"
   ]
  },
  {
   "cell_type": "markdown",
   "metadata": {},
   "source": [
    "(b) Figur 2:\n",
    "\n",
    "   Fokusera på inferensen med ett tredjegradspolynom ($k=3$). Redovisa i fyra paneler de marginaliserade fördelningarna för det fyra parametrarna. I varje panel skall ni jämföra a priori- och a posteriori-fördelningarna samt även visa trolighetsfunktionen som en funktion av respektive parameter. \n",
    "   - Tolka dessa resultat."
   ]
  },
  {
   "cell_type": "markdown",
   "metadata": {},
   "source": [
    "## Steg 3: MCMC sampling och a posteriori förutsägelser\n",
    "\n",
    "Målet med detta sista steg är att genomföra den Bayesianska inferensen helt numeriskt. "
   ]
  },
  {
   "cell_type": "markdown",
   "metadata": {},
   "source": [
    "(a) Examineras i Yata\n",
    "\n",
    "- Skapa en MCMC-sampler som bygger på Metropolisalgoritmen och som använder en normalfördelning för att föreslå nya positioner i ett $N_p$-dimensionellt rum.\n",
    "- Definiera funktioner för logaritmen av a priori fördelningen samt för logaritmen av trolighetsfunktionen som tar en parameteruppsättning som argument. Ni behöver inte inkludera normaliseringskonstanter som inte beror på de parametrar som ni försöker estimera. \n",
    "- Definiera slutligen en funktion som beräknar logaritmen av (den onormaliserade) a posteriorifördelningen. "
   ]
  },
  {
   "cell_type": "markdown",
   "metadata": {},
   "source": [
    "(b) Figur 3:\n",
    "\n",
    "Utför en MCMC sampling av a posteriorifördelningen för den kvadratiska modellen (med tre parametrar). Visa följande marginalfördelningar, gärna i en så kallad \"corner plot\":\n",
    "\n",
    "Bivariata\n",
    "-  $p(\\theta_0,\\theta_1 \\vert \\mathcal{D}, I)$\n",
    "-  $p(\\theta_0,\\theta_2 \\vert \\mathcal{D}, I)$\n",
    "-  $p(\\theta_1,\\theta_2 \\vert \\mathcal{D}, I)$\n",
    "\n",
    "Univariata\n",
    "-  $p(\\theta_0 \\vert \\mathcal{D}, I)$\n",
    "-  $p(\\theta_1 \\vert \\mathcal{D}, I)$\n",
    "-  $p(\\theta_2 \\vert \\mathcal{D}, I)$\n",
    "\n",
    "Undersök hur kvaliten på dessa samplade fördelningar beror på antalet iterationer samt på bredden på normalfördelningen som används för att föreslå nya positioner. Jämför på egend hand (dessa undersökningar behöver ej redovisas i den inlämnade ipynb-filen men kan diskuteras på redovisningsseminariet):\n",
    "- Hur väl jämför medelvärden och varianser med den analytiska lösningen?\n",
    "- Kvaliteten på samplingen måste vara tillräckligt hög för att (åtminstone) de univariata normaldistributionerna skall kunna urskiljas."
   ]
  },
  {
   "cell_type": "markdown",
   "metadata": {},
   "source": [
    "(c) Figur 4:\n",
    "\n",
    "Välj cirka 100 stickprov ur den samplade fördelningen och gör en förutsägelse av funktionens utseende i intervallet $x \\in [0, 0.4]$. Jämför med data samt på den underliggande funktionen. Försök dra slutsatser kring följande (dessa undersökningar behöver ej redovisas i den inlämnade ipynb-filen men kan diskuteras på redovisningsseminariet):\n",
    "- Var är osäkerheten i förutsägelserna som störst?\n",
    "- Med målet att den ändliga mängden med stickprov bäst skall representera den riktiga fördelningen av a posteriori förutsägelser, är det bäst att välja stickprov som kommer efter varandra i samplingen eller är det bättre att sprida ut dem?"
   ]
  },
  {
   "cell_type": "code",
   "execution_count": null,
   "metadata": {},
   "outputs": [],
   "source": []
  }
 ],
 "metadata": {
  "kernelspec": {
   "display_name": "Python 3 (ipykernel)",
   "language": "python",
   "name": "python3"
  },
  "language_info": {
   "codemirror_mode": {
    "name": "ipython",
    "version": 3
   },
   "file_extension": ".py",
   "mimetype": "text/x-python",
   "name": "python",
   "nbconvert_exporter": "python",
   "pygments_lexer": "ipython3",
   "version": "3.11.4"
  },
  "vscode": {
   "interpreter": {
    "hash": "b0fa6594d8f4cbf19f97940f81e996739fb7646882a419484c72d19e05852a7e"
   }
  }
 },
 "nbformat": 4,
 "nbformat_minor": 4
}
